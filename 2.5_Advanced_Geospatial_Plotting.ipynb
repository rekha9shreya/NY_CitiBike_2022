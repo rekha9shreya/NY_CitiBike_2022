{
 "cells": [
  {
   "cell_type": "markdown",
   "id": "4abf9a5d-6888-46a6-88de-d5843bc6cd35",
   "metadata": {},
   "source": [
    "# 2.5 Advanced Geospatial Plotting"
   ]
  },
  {
   "cell_type": "markdown",
   "id": "5b481927-9d0f-4346-bb7b-ce4036c46c36",
   "metadata": {},
   "source": [
    "## 2. Import and Install Libraries"
   ]
  },
  {
   "cell_type": "code",
   "execution_count": 1,
   "id": "55fb27ab-e21e-4df8-aaf8-442c571fa1c6",
   "metadata": {
    "tags": []
   },
   "outputs": [],
   "source": [
    "#import libraries\n",
    "import pandas as pd\n",
    "import os\n",
    "from keplergl import KeplerGl\n",
    "from pyproj import CRS\n",
    "import numpy as npa\n",
    "from matplotlib import pyplot as plt"
   ]
  },
  {
   "cell_type": "code",
   "execution_count": 2,
   "id": "e4f82750-232b-4ac1-9c30-a6ce1d913a39",
   "metadata": {},
   "outputs": [
    {
     "name": "stdout",
     "output_type": "stream",
     "text": [
      "Python 3.12.4\n"
     ]
    }
   ],
   "source": [
    "!python --version"
   ]
  },
  {
   "cell_type": "code",
   "execution_count": 3,
   "id": "ae79407b-1ffc-49a2-aa3d-253b28518cd3",
   "metadata": {
    "tags": []
   },
   "outputs": [],
   "source": [
    "#read csv\n",
    "df = pd.read_csv('NY_CitiBike_2022_sampled.csv', index_col = 0)"
   ]
  },
  {
   "cell_type": "markdown",
   "id": "632f0835-dedd-4cee-8283-182265fd47e4",
   "metadata": {},
   "source": [
    "## 3. Data Processing"
   ]
  },
  {
   "cell_type": "code",
   "execution_count": 4,
   "id": "f86ebc23-f727-431f-a356-fbb16860c5ef",
   "metadata": {
    "tags": []
   },
   "outputs": [
    {
     "data": {
      "text/html": [
       "<div>\n",
       "<style scoped>\n",
       "    .dataframe tbody tr th:only-of-type {\n",
       "        vertical-align: middle;\n",
       "    }\n",
       "\n",
       "    .dataframe tbody tr th {\n",
       "        vertical-align: top;\n",
       "    }\n",
       "\n",
       "    .dataframe thead th {\n",
       "        text-align: right;\n",
       "    }\n",
       "</style>\n",
       "<table border=\"1\" class=\"dataframe\">\n",
       "  <thead>\n",
       "    <tr style=\"text-align: right;\">\n",
       "      <th></th>\n",
       "      <th>ride_id</th>\n",
       "      <th>rideable_type</th>\n",
       "      <th>started_at</th>\n",
       "      <th>ended_at</th>\n",
       "      <th>start_station_name</th>\n",
       "      <th>start_station_id</th>\n",
       "      <th>end_station_name</th>\n",
       "      <th>end_station_id</th>\n",
       "      <th>start_lat</th>\n",
       "      <th>start_lng</th>\n",
       "      <th>end_lat</th>\n",
       "      <th>end_lng</th>\n",
       "      <th>member_casual</th>\n",
       "      <th>start_time</th>\n",
       "      <th>date</th>\n",
       "      <th>avgTemp</th>\n",
       "      <th>_merge</th>\n",
       "    </tr>\n",
       "  </thead>\n",
       "  <tbody>\n",
       "    <tr>\n",
       "      <th>29120623</th>\n",
       "      <td>3C8AACB2D6B4349A</td>\n",
       "      <td>classic_bike</td>\n",
       "      <td>2022-12-03 00:19:08</td>\n",
       "      <td>2022-12-03 00:40:57</td>\n",
       "      <td>Irving Ave &amp; Jefferson St</td>\n",
       "      <td>5051.02</td>\n",
       "      <td>Market St &amp; Henry St</td>\n",
       "      <td>5270.09</td>\n",
       "      <td>40.705410</td>\n",
       "      <td>-73.925450</td>\n",
       "      <td>40.713108</td>\n",
       "      <td>-73.994460</td>\n",
       "      <td>member</td>\n",
       "      <td>2022-12-03 00:19:08</td>\n",
       "      <td>2022-12-03</td>\n",
       "      <td>10.6</td>\n",
       "      <td>both</td>\n",
       "    </tr>\n",
       "    <tr>\n",
       "      <th>21568440</th>\n",
       "      <td>8891065C742A0959</td>\n",
       "      <td>classic_bike</td>\n",
       "      <td>2022-09-23 17:28:00</td>\n",
       "      <td>2022-09-23 17:42:12</td>\n",
       "      <td>W 36 St &amp; 9 Ave</td>\n",
       "      <td>6569.07</td>\n",
       "      <td>W 12 St &amp; Hudson St</td>\n",
       "      <td>5997.10</td>\n",
       "      <td>40.754623</td>\n",
       "      <td>-73.995170</td>\n",
       "      <td>40.737530</td>\n",
       "      <td>-74.005590</td>\n",
       "      <td>member</td>\n",
       "      <td>2022-09-23 17:28:00</td>\n",
       "      <td>2022-09-23</td>\n",
       "      <td>15.1</td>\n",
       "      <td>both</td>\n",
       "    </tr>\n",
       "    <tr>\n",
       "      <th>23553887</th>\n",
       "      <td>44C9E5C0CE745B83</td>\n",
       "      <td>classic_bike</td>\n",
       "      <td>2022-09-02 11:48:04</td>\n",
       "      <td>2022-09-02 11:55:42</td>\n",
       "      <td>Allen St &amp; Rivington St</td>\n",
       "      <td>5414.06</td>\n",
       "      <td>Lafayette St &amp; E 8 St</td>\n",
       "      <td>5788.13</td>\n",
       "      <td>40.720196</td>\n",
       "      <td>-73.989975</td>\n",
       "      <td>40.730206</td>\n",
       "      <td>-73.991030</td>\n",
       "      <td>member</td>\n",
       "      <td>2022-09-02 11:48:04</td>\n",
       "      <td>2022-09-02</td>\n",
       "      <td>21.7</td>\n",
       "      <td>both</td>\n",
       "    </tr>\n",
       "    <tr>\n",
       "      <th>21160236</th>\n",
       "      <td>621A040D1B1CD808</td>\n",
       "      <td>electric_bike</td>\n",
       "      <td>2022-09-28 16:41:53</td>\n",
       "      <td>2022-09-28 16:41:55</td>\n",
       "      <td>West St &amp; Liberty St</td>\n",
       "      <td>5184.08</td>\n",
       "      <td>West St &amp; Liberty St</td>\n",
       "      <td>5184.08</td>\n",
       "      <td>40.711445</td>\n",
       "      <td>-74.014850</td>\n",
       "      <td>40.711445</td>\n",
       "      <td>-74.014850</td>\n",
       "      <td>member</td>\n",
       "      <td>2022-09-28 16:41:53</td>\n",
       "      <td>2022-09-28</td>\n",
       "      <td>17.2</td>\n",
       "      <td>both</td>\n",
       "    </tr>\n",
       "    <tr>\n",
       "      <th>15027579</th>\n",
       "      <td>C06B5DF339C420E1</td>\n",
       "      <td>classic_bike</td>\n",
       "      <td>2022-07-28 06:08:22</td>\n",
       "      <td>2022-07-28 06:18:50</td>\n",
       "      <td>Lewis Ave &amp; Kosciuszko St</td>\n",
       "      <td>4617.01</td>\n",
       "      <td>Hanson Pl &amp; Ashland Pl</td>\n",
       "      <td>4395.07</td>\n",
       "      <td>40.692345</td>\n",
       "      <td>-73.937100</td>\n",
       "      <td>40.685066</td>\n",
       "      <td>-73.977905</td>\n",
       "      <td>casual</td>\n",
       "      <td>2022-07-28 06:08:22</td>\n",
       "      <td>2022-07-28</td>\n",
       "      <td>26.7</td>\n",
       "      <td>both</td>\n",
       "    </tr>\n",
       "  </tbody>\n",
       "</table>\n",
       "</div>"
      ],
      "text/plain": [
       "                   ride_id  rideable_type           started_at  \\\n",
       "29120623  3C8AACB2D6B4349A   classic_bike  2022-12-03 00:19:08   \n",
       "21568440  8891065C742A0959   classic_bike  2022-09-23 17:28:00   \n",
       "23553887  44C9E5C0CE745B83   classic_bike  2022-09-02 11:48:04   \n",
       "21160236  621A040D1B1CD808  electric_bike  2022-09-28 16:41:53   \n",
       "15027579  C06B5DF339C420E1   classic_bike  2022-07-28 06:08:22   \n",
       "\n",
       "                     ended_at         start_station_name  start_station_id  \\\n",
       "29120623  2022-12-03 00:40:57  Irving Ave & Jefferson St           5051.02   \n",
       "21568440  2022-09-23 17:42:12            W 36 St & 9 Ave           6569.07   \n",
       "23553887  2022-09-02 11:55:42    Allen St & Rivington St           5414.06   \n",
       "21160236  2022-09-28 16:41:55       West St & Liberty St           5184.08   \n",
       "15027579  2022-07-28 06:18:50  Lewis Ave & Kosciuszko St           4617.01   \n",
       "\n",
       "                end_station_name end_station_id  start_lat  start_lng  \\\n",
       "29120623    Market St & Henry St        5270.09  40.705410 -73.925450   \n",
       "21568440     W 12 St & Hudson St        5997.10  40.754623 -73.995170   \n",
       "23553887   Lafayette St & E 8 St        5788.13  40.720196 -73.989975   \n",
       "21160236    West St & Liberty St        5184.08  40.711445 -74.014850   \n",
       "15027579  Hanson Pl & Ashland Pl        4395.07  40.692345 -73.937100   \n",
       "\n",
       "            end_lat    end_lng member_casual           start_time        date  \\\n",
       "29120623  40.713108 -73.994460        member  2022-12-03 00:19:08  2022-12-03   \n",
       "21568440  40.737530 -74.005590        member  2022-09-23 17:28:00  2022-09-23   \n",
       "23553887  40.730206 -73.991030        member  2022-09-02 11:48:04  2022-09-02   \n",
       "21160236  40.711445 -74.014850        member  2022-09-28 16:41:53  2022-09-28   \n",
       "15027579  40.685066 -73.977905        casual  2022-07-28 06:08:22  2022-07-28   \n",
       "\n",
       "          avgTemp _merge  \n",
       "29120623     10.6   both  \n",
       "21568440     15.1   both  \n",
       "23553887     21.7   both  \n",
       "21160236     17.2   both  \n",
       "15027579     26.7   both  "
      ]
     },
     "execution_count": 4,
     "metadata": {},
     "output_type": "execute_result"
    }
   ],
   "source": [
    "df.head()"
   ]
  },
  {
   "cell_type": "code",
   "execution_count": 5,
   "id": "18e2af5e-8b8d-447c-b06a-bdda48641483",
   "metadata": {
    "tags": []
   },
   "outputs": [],
   "source": [
    "# Remove blank rows\n",
    "df_cleaned = df.dropna()"
   ]
  },
  {
   "cell_type": "code",
   "execution_count": 6,
   "id": "5973e703-447e-470e-a1a1-c3989dee68b2",
   "metadata": {
    "tags": []
   },
   "outputs": [
    {
     "name": "stderr",
     "output_type": "stream",
     "text": [
      "C:\\Users\\bhimc\\AppData\\Local\\Temp\\ipykernel_20344\\1461423283.py:3: SettingWithCopyWarning: \n",
      "A value is trying to be set on a copy of a slice from a DataFrame.\n",
      "Try using .loc[row_indexer,col_indexer] = value instead\n",
      "\n",
      "See the caveats in the documentation: https://pandas.pydata.org/pandas-docs/stable/user_guide/indexing.html#returning-a-view-versus-a-copy\n",
      "  df_cleaned['value'] = 1\n"
     ]
    }
   ],
   "source": [
    "# Create a value column and group by start and end station \n",
    "\n",
    "df_cleaned['value'] = 1\n",
    "df_group = df_cleaned.groupby(['start_station_name', 'end_station_name', 'start_lat', 'start_lng', 'end_lat', 'end_lng'], as_index=False).agg({'value' : 'sum'})"
   ]
  },
  {
   "cell_type": "code",
   "execution_count": 7,
   "id": "eb636b00-e8aa-4cb8-93bb-b949a8d7d4bb",
   "metadata": {
    "tags": []
   },
   "outputs": [
    {
     "data": {
      "text/html": [
       "<div>\n",
       "<style scoped>\n",
       "    .dataframe tbody tr th:only-of-type {\n",
       "        vertical-align: middle;\n",
       "    }\n",
       "\n",
       "    .dataframe tbody tr th {\n",
       "        vertical-align: top;\n",
       "    }\n",
       "\n",
       "    .dataframe thead th {\n",
       "        text-align: right;\n",
       "    }\n",
       "</style>\n",
       "<table border=\"1\" class=\"dataframe\">\n",
       "  <thead>\n",
       "    <tr style=\"text-align: right;\">\n",
       "      <th></th>\n",
       "      <th>start_station_name</th>\n",
       "      <th>end_station_name</th>\n",
       "      <th>start_lat</th>\n",
       "      <th>start_lng</th>\n",
       "      <th>end_lat</th>\n",
       "      <th>end_lng</th>\n",
       "      <th>value</th>\n",
       "    </tr>\n",
       "  </thead>\n",
       "  <tbody>\n",
       "    <tr>\n",
       "      <th>0</th>\n",
       "      <td>1 Ave &amp; E 110 St</td>\n",
       "      <td>Adam Clayton Powell Blvd &amp; W 132 St</td>\n",
       "      <td>40.792328</td>\n",
       "      <td>-73.93830</td>\n",
       "      <td>40.813538</td>\n",
       "      <td>-73.945210</td>\n",
       "      <td>1</td>\n",
       "    </tr>\n",
       "    <tr>\n",
       "      <th>1</th>\n",
       "      <td>1 Ave &amp; E 110 St</td>\n",
       "      <td>E 147 St &amp; Bergen Ave</td>\n",
       "      <td>40.792328</td>\n",
       "      <td>-73.93830</td>\n",
       "      <td>40.814674</td>\n",
       "      <td>-73.918390</td>\n",
       "      <td>1</td>\n",
       "    </tr>\n",
       "    <tr>\n",
       "      <th>2</th>\n",
       "      <td>1 Ave &amp; E 110 St</td>\n",
       "      <td>E 85 St &amp; 3 Ave</td>\n",
       "      <td>40.792385</td>\n",
       "      <td>-73.93809</td>\n",
       "      <td>40.778010</td>\n",
       "      <td>-73.954070</td>\n",
       "      <td>1</td>\n",
       "    </tr>\n",
       "    <tr>\n",
       "      <th>3</th>\n",
       "      <td>1 Ave &amp; E 110 St</td>\n",
       "      <td>Frederick Douglass Blvd &amp; W 145 St</td>\n",
       "      <td>40.792328</td>\n",
       "      <td>-73.93830</td>\n",
       "      <td>40.823063</td>\n",
       "      <td>-73.941925</td>\n",
       "      <td>1</td>\n",
       "    </tr>\n",
       "    <tr>\n",
       "      <th>4</th>\n",
       "      <td>1 Ave &amp; E 16 St</td>\n",
       "      <td>2 Ave &amp; E 29 St</td>\n",
       "      <td>40.732220</td>\n",
       "      <td>-73.98166</td>\n",
       "      <td>40.741722</td>\n",
       "      <td>-73.978096</td>\n",
       "      <td>1</td>\n",
       "    </tr>\n",
       "  </tbody>\n",
       "</table>\n",
       "</div>"
      ],
      "text/plain": [
       "  start_station_name                     end_station_name  start_lat  \\\n",
       "0   1 Ave & E 110 St  Adam Clayton Powell Blvd & W 132 St  40.792328   \n",
       "1   1 Ave & E 110 St                E 147 St & Bergen Ave  40.792328   \n",
       "2   1 Ave & E 110 St                      E 85 St & 3 Ave  40.792385   \n",
       "3   1 Ave & E 110 St   Frederick Douglass Blvd & W 145 St  40.792328   \n",
       "4    1 Ave & E 16 St                      2 Ave & E 29 St  40.732220   \n",
       "\n",
       "   start_lng    end_lat    end_lng  value  \n",
       "0  -73.93830  40.813538 -73.945210      1  \n",
       "1  -73.93830  40.814674 -73.918390      1  \n",
       "2  -73.93809  40.778010 -73.954070      1  \n",
       "3  -73.93830  40.823063 -73.941925      1  \n",
       "4  -73.98166  40.741722 -73.978096      1  "
      ]
     },
     "execution_count": 7,
     "metadata": {},
     "output_type": "execute_result"
    }
   ],
   "source": [
    "df_group.head()"
   ]
  },
  {
   "cell_type": "code",
   "execution_count": 8,
   "id": "5f2ed41d-0a9a-4997-9f64-cc6de9e07d97",
   "metadata": {
    "tags": []
   },
   "outputs": [
    {
     "data": {
      "text/plain": [
       "start_station_name     object\n",
       "end_station_name       object\n",
       "start_lat             float64\n",
       "start_lng             float64\n",
       "end_lat               float64\n",
       "end_lng               float64\n",
       "value                   int64\n",
       "dtype: object"
      ]
     },
     "execution_count": 8,
     "metadata": {},
     "output_type": "execute_result"
    }
   ],
   "source": [
    "df_group.dtypes"
   ]
  },
  {
   "cell_type": "code",
   "execution_count": 9,
   "id": "98e16638-e17c-4124-ac55-5f3439f6cd35",
   "metadata": {
    "tags": []
   },
   "outputs": [],
   "source": [
    "#change the data type of 'value'\n",
    "df_group['value'] = df_group['value'].astype('float')"
   ]
  },
  {
   "cell_type": "code",
   "execution_count": 10,
   "id": "5ce6174d-eadd-418d-95de-cc13ea5e6828",
   "metadata": {
    "tags": []
   },
   "outputs": [
    {
     "data": {
      "text/plain": [
       "start_station_name     object\n",
       "end_station_name       object\n",
       "start_lat             float64\n",
       "start_lng             float64\n",
       "end_lat               float64\n",
       "end_lng               float64\n",
       "value                 float64\n",
       "dtype: object"
      ]
     },
     "execution_count": 10,
     "metadata": {},
     "output_type": "execute_result"
    }
   ],
   "source": [
    "df_group.dtypes"
   ]
  },
  {
   "cell_type": "code",
   "execution_count": 14,
   "id": "d7bc822f-4f4b-4988-b365-d80cbbfb0c7f",
   "metadata": {
    "tags": []
   },
   "outputs": [],
   "source": [
    "df_group.to_csv('NY_Locations_For_Map.csv')"
   ]
  },
  {
   "cell_type": "markdown",
   "id": "040caef7",
   "metadata": {},
   "source": [
    "## 4. Initialize an instance of a Kepler.gl map"
   ]
  },
  {
   "cell_type": "code",
   "execution_count": 11,
   "id": "839aeb81-2b84-4596-847a-a0f2721a6922",
   "metadata": {
    "tags": []
   },
   "outputs": [
    {
     "data": {
      "text/plain": [
       "20"
      ]
     },
     "execution_count": 11,
     "metadata": {},
     "output_type": "execute_result"
    }
   ],
   "source": [
    "import gc # this is garbage collector - speeds up performance\n",
    "gc.collect()"
   ]
  },
  {
   "cell_type": "code",
   "execution_count": 12,
   "id": "2d831eee-4665-490c-aee6-f2f519b0bc5f",
   "metadata": {
    "tags": []
   },
   "outputs": [
    {
     "name": "stdout",
     "output_type": "stream",
     "text": [
      "User Guide: https://docs.kepler.gl/docs/keplergl-jupyter\n"
     ]
    },
    {
     "data": {
      "application/vnd.jupyter.widget-view+json": {
       "model_id": "923a3d1ca5de4b73aac091869fcde9f1",
       "version_major": 2,
       "version_minor": 0
      },
      "text/plain": [
       "KeplerGl(data={'data_1':                 start_station_name                     end_station_name  \\\n",
       "0         …"
      ]
     },
     "metadata": {},
     "output_type": "display_data"
    }
   ],
   "source": [
    "# Create KeplerGl instance\n",
    "\n",
    "m = KeplerGl(height=400, data={\"data_1\": df_group})\n",
    "m"
   ]
  },
  {
   "cell_type": "markdown",
   "id": "4c8b7797",
   "metadata": {},
   "source": [
    "## 5. Customize output of map"
   ]
  },
  {
   "cell_type": "markdown",
   "id": "2b30fdcc",
   "metadata": {},
   "source": [
    "### I changed the color for the start and end stations to make it more visible and differentiate the two. Then I made the arc visible for both the start and end stations and changed the color of the arcs.  "
   ]
  },
  {
   "cell_type": "markdown",
   "id": "6b4a2925",
   "metadata": {},
   "source": [
    "## 6. Add filter to map and write observations"
   ]
  },
  {
   "cell_type": "markdown",
   "id": "bc6d4447",
   "metadata": {},
   "source": [
    "### I added a filter to see the most popular stations, the stations were 12 Ave & 40 St and Vesey St & Church St. After a quick search on google these popular destinations were near the Hudson River Park and near The World Trade Center. These results make sense because they are popular destinations in New York. "
   ]
  },
  {
   "cell_type": "markdown",
   "id": "f596c74d",
   "metadata": {},
   "source": [
    "## 7. Create a config object and save your map with it"
   ]
  },
  {
   "cell_type": "code",
   "execution_count": 13,
   "id": "614f1542",
   "metadata": {},
   "outputs": [],
   "source": [
    "config = m.config"
   ]
  },
  {
   "cell_type": "code",
   "execution_count": 14,
   "id": "1dad20aa",
   "metadata": {
    "scrolled": true
   },
   "outputs": [
    {
     "data": {
      "text/plain": [
       "{'version': 'v1',\n",
       " 'config': {'visState': {'filters': [{'dataId': ['data_1'],\n",
       "     'id': '47qvtfe39',\n",
       "     'name': ['value'],\n",
       "     'type': 'range',\n",
       "     'value': [1, 5],\n",
       "     'enlarged': False,\n",
       "     'plotType': 'histogram',\n",
       "     'animationWindow': 'free',\n",
       "     'yAxis': None,\n",
       "     'speed': 1}],\n",
       "   'layers': [{'id': '01hrt0v',\n",
       "     'type': 'point',\n",
       "     'config': {'dataId': 'data_1',\n",
       "      'label': 'start',\n",
       "      'color': [223, 73, 22],\n",
       "      'highlightColor': [252, 242, 26, 255],\n",
       "      'columns': {'lat': 'start_lat', 'lng': 'start_lng', 'altitude': None},\n",
       "      'isVisible': True,\n",
       "      'visConfig': {'radius': 10,\n",
       "       'fixedRadius': False,\n",
       "       'opacity': 0.8,\n",
       "       'outline': False,\n",
       "       'thickness': 2,\n",
       "       'strokeColor': None,\n",
       "       'colorRange': {'name': 'Global Warming',\n",
       "        'type': 'sequential',\n",
       "        'category': 'Uber',\n",
       "        'colors': ['#5A1846',\n",
       "         '#900C3F',\n",
       "         '#C70039',\n",
       "         '#E3611C',\n",
       "         '#F1920E',\n",
       "         '#FFC300']},\n",
       "       'strokeColorRange': {'name': 'Global Warming',\n",
       "        'type': 'sequential',\n",
       "        'category': 'Uber',\n",
       "        'colors': ['#5A1846',\n",
       "         '#900C3F',\n",
       "         '#C70039',\n",
       "         '#E3611C',\n",
       "         '#F1920E',\n",
       "         '#FFC300']},\n",
       "       'radiusRange': [0, 50],\n",
       "       'filled': True},\n",
       "      'hidden': False,\n",
       "      'textLabel': [{'field': None,\n",
       "        'color': [255, 255, 255],\n",
       "        'size': 18,\n",
       "        'offset': [0, 0],\n",
       "        'anchor': 'start',\n",
       "        'alignment': 'center'}]},\n",
       "     'visualChannels': {'colorField': None,\n",
       "      'colorScale': 'quantile',\n",
       "      'strokeColorField': None,\n",
       "      'strokeColorScale': 'quantile',\n",
       "      'sizeField': None,\n",
       "      'sizeScale': 'linear'}},\n",
       "    {'id': 'wv6n55f',\n",
       "     'type': 'point',\n",
       "     'config': {'dataId': 'data_1',\n",
       "      'label': 'end',\n",
       "      'color': [253, 201, 0],\n",
       "      'highlightColor': [252, 242, 26, 255],\n",
       "      'columns': {'lat': 'end_lat', 'lng': 'end_lng', 'altitude': None},\n",
       "      'isVisible': True,\n",
       "      'visConfig': {'radius': 10,\n",
       "       'fixedRadius': False,\n",
       "       'opacity': 0.8,\n",
       "       'outline': False,\n",
       "       'thickness': 2,\n",
       "       'strokeColor': None,\n",
       "       'colorRange': {'name': 'Global Warming',\n",
       "        'type': 'sequential',\n",
       "        'category': 'Uber',\n",
       "        'colors': ['#5A1846',\n",
       "         '#900C3F',\n",
       "         '#C70039',\n",
       "         '#E3611C',\n",
       "         '#F1920E',\n",
       "         '#FFC300']},\n",
       "       'strokeColorRange': {'name': 'Global Warming',\n",
       "        'type': 'sequential',\n",
       "        'category': 'Uber',\n",
       "        'colors': ['#5A1846',\n",
       "         '#900C3F',\n",
       "         '#C70039',\n",
       "         '#E3611C',\n",
       "         '#F1920E',\n",
       "         '#FFC300']},\n",
       "       'radiusRange': [0, 50],\n",
       "       'filled': True},\n",
       "      'hidden': False,\n",
       "      'textLabel': [{'field': None,\n",
       "        'color': [255, 255, 255],\n",
       "        'size': 18,\n",
       "        'offset': [0, 0],\n",
       "        'anchor': 'start',\n",
       "        'alignment': 'center'}]},\n",
       "     'visualChannels': {'colorField': None,\n",
       "      'colorScale': 'quantile',\n",
       "      'strokeColorField': None,\n",
       "      'strokeColorScale': 'quantile',\n",
       "      'sizeField': None,\n",
       "      'sizeScale': 'linear'}},\n",
       "    {'id': 'msvirdj',\n",
       "     'type': 'arc',\n",
       "     'config': {'dataId': 'data_1',\n",
       "      'label': 'start -> end arc',\n",
       "      'color': [134, 10, 90],\n",
       "      'highlightColor': [252, 242, 26, 255],\n",
       "      'columns': {'lat0': 'start_lat',\n",
       "       'lng0': 'start_lng',\n",
       "       'lat1': 'end_lat',\n",
       "       'lng1': 'end_lng'},\n",
       "      'isVisible': True,\n",
       "      'visConfig': {'opacity': 0.8,\n",
       "       'thickness': 2,\n",
       "       'colorRange': {'name': 'Global Warming',\n",
       "        'type': 'sequential',\n",
       "        'category': 'Uber',\n",
       "        'colors': ['#5A1846',\n",
       "         '#900C3F',\n",
       "         '#C70039',\n",
       "         '#E3611C',\n",
       "         '#F1920E',\n",
       "         '#FFC300']},\n",
       "       'sizeRange': [0, 10],\n",
       "       'targetColor': [223, 73, 22]},\n",
       "      'hidden': False,\n",
       "      'textLabel': [{'field': None,\n",
       "        'color': [255, 255, 255],\n",
       "        'size': 18,\n",
       "        'offset': [0, 0],\n",
       "        'anchor': 'start',\n",
       "        'alignment': 'center'}]},\n",
       "     'visualChannels': {'colorField': None,\n",
       "      'colorScale': 'quantile',\n",
       "      'sizeField': None,\n",
       "      'sizeScale': 'linear'}},\n",
       "    {'id': '90n4e7b',\n",
       "     'type': 'line',\n",
       "     'config': {'dataId': 'data_1',\n",
       "      'label': 'start -> end line',\n",
       "      'color': [55, 29, 168],\n",
       "      'highlightColor': [252, 242, 26, 255],\n",
       "      'columns': {'lat0': 'start_lat',\n",
       "       'lng0': 'start_lng',\n",
       "       'alt0': None,\n",
       "       'lat1': 'end_lat',\n",
       "       'lng1': 'end_lng',\n",
       "       'alt1': None},\n",
       "      'isVisible': True,\n",
       "      'visConfig': {'opacity': 0.8,\n",
       "       'thickness': 2,\n",
       "       'colorRange': {'name': 'Global Warming',\n",
       "        'type': 'sequential',\n",
       "        'category': 'Uber',\n",
       "        'colors': ['#5A1846',\n",
       "         '#900C3F',\n",
       "         '#C70039',\n",
       "         '#E3611C',\n",
       "         '#F1920E',\n",
       "         '#FFC300']},\n",
       "       'sizeRange': [0, 10],\n",
       "       'targetColor': [253, 236, 0],\n",
       "       'elevationScale': 1},\n",
       "      'hidden': False,\n",
       "      'textLabel': [{'field': None,\n",
       "        'color': [255, 255, 255],\n",
       "        'size': 18,\n",
       "        'offset': [0, 0],\n",
       "        'anchor': 'start',\n",
       "        'alignment': 'center'}]},\n",
       "     'visualChannels': {'colorField': None,\n",
       "      'colorScale': 'quantile',\n",
       "      'sizeField': None,\n",
       "      'sizeScale': 'linear'}}],\n",
       "   'interactionConfig': {'tooltip': {'fieldsToShow': {'data_1': [{'name': 'start_station_name',\n",
       "        'format': None},\n",
       "       {'name': 'end_station_name', 'format': None},\n",
       "       {'name': 'value', 'format': None}]},\n",
       "     'compareMode': False,\n",
       "     'compareType': 'absolute',\n",
       "     'enabled': True},\n",
       "    'brush': {'size': 0.5, 'enabled': False},\n",
       "    'geocoder': {'enabled': False},\n",
       "    'coordinate': {'enabled': False}},\n",
       "   'layerBlending': 'normal',\n",
       "   'splitMaps': [],\n",
       "   'animationConfig': {'currentTime': None, 'speed': 1}},\n",
       "  'mapState': {'bearing': 0,\n",
       "   'dragRotate': False,\n",
       "   'latitude': 40.79568815224171,\n",
       "   'longitude': -73.9478731171916,\n",
       "   'pitch': 0,\n",
       "   'zoom': 9.029202312567062,\n",
       "   'isSplit': False},\n",
       "  'mapStyle': {'styleType': 'dark',\n",
       "   'topLayerGroups': {},\n",
       "   'visibleLayerGroups': {'label': True,\n",
       "    'road': True,\n",
       "    'border': False,\n",
       "    'building': True,\n",
       "    'water': True,\n",
       "    'land': True,\n",
       "    '3d building': False},\n",
       "   'threeDBuildingColor': [9.665468314072013,\n",
       "    17.18305478057247,\n",
       "    31.1442867897876],\n",
       "   'mapStyles': {}}}}"
      ]
     },
     "execution_count": 14,
     "metadata": {},
     "output_type": "execute_result"
    }
   ],
   "source": [
    "config"
   ]
  },
  {
   "cell_type": "code",
   "execution_count": 15,
   "id": "6f989cbd",
   "metadata": {},
   "outputs": [],
   "source": [
    "import json\n",
    "with open(\"config.json\", \"w\") as outfile:\n",
    "    json.dump(config, outfile)"
   ]
  },
  {
   "cell_type": "code",
   "execution_count": 16,
   "id": "f26b198c",
   "metadata": {},
   "outputs": [
    {
     "name": "stdout",
     "output_type": "stream",
     "text": [
      "Map saved to NY_Bike_Trips_Aggregated.html!\n"
     ]
    }
   ],
   "source": [
    "m.save_to_html(file_name = 'NY_Bike_Trips_Aggregated.html', read_only = False, config = config)"
   ]
  },
  {
   "cell_type": "code",
   "execution_count": null,
   "id": "f249573c",
   "metadata": {},
   "outputs": [],
   "source": []
  }
 ],
 "metadata": {
  "kernelspec": {
   "display_name": "Python 3 (ipykernel)",
   "language": "python",
   "name": "python3"
  },
  "language_info": {
   "codemirror_mode": {
    "name": "ipython",
    "version": 3
   },
   "file_extension": ".py",
   "mimetype": "text/x-python",
   "name": "python",
   "nbconvert_exporter": "python",
   "pygments_lexer": "ipython3",
   "version": "3.10.11"
  }
 },
 "nbformat": 4,
 "nbformat_minor": 5
}
